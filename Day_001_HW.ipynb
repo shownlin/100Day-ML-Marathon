{
 "cells": [
  {
   "cell_type": "markdown",
   "metadata": {},
   "source": [
    "## 練習時間\n",
    "#### 請寫一個函式用來計算 Mean Square Error\n",
    "$ MSE = \\frac{1}{n}\\sum_{i=1}^{n}{(Y_i - \\hat{Y}_i)^2} $\n",
    "\n",
    "### Hint: [如何取平方](https://googoodesign.gitbooks.io/-ezpython/unit-1.html)"
   ]
  },
  {
   "cell_type": "markdown",
   "metadata": {},
   "source": [
    "# [作業目標]\n",
    "- 仿造範例的MAE函數, 自己寫一個MSE函數(參考上面公式)"
   ]
  },
  {
   "cell_type": "markdown",
   "metadata": {},
   "source": [
    "# [作業重點]\n",
    "- 注意程式的縮排\n",
    "- 是否能將數學公式, 轉換為 Python 的函式組合? (In[2], Out[2])"
   ]
  },
  {
   "cell_type": "code",
   "execution_count": 1,
   "metadata": {},
   "outputs": [],
   "source": [
    "# 載入基礎套件與代稱\n",
    "import numpy as np\n",
    "import matplotlib.pyplot as plt"
   ]
  },
  {
   "cell_type": "code",
   "execution_count": 2,
   "metadata": {},
   "outputs": [],
   "source": [
    "def mean_absolute_error(y, yp):\n",
    "    \"\"\"\n",
    "    計算 MAE\n",
    "    Args:\n",
    "        - y: 實際值\n",
    "        - yp: 預測值\n",
    "    Return:\n",
    "        - mae: MAE\n",
    "    \"\"\"\n",
    "    mae = MAE = sum(abs(y - yp)) / len(y)\n",
    "    return mae\n",
    "\n",
    "# 定義 mean_squared_error 這個函數, 計算並傳回 MSE\n",
    "def mean_squared_error(y, yp):\n",
    "    mse = MSE = sum((y - yp) ** 2) / len(y)\n",
    "    return mse"
   ]
  },
  {
   "cell_type": "code",
   "execution_count": 3,
   "metadata": {},
   "outputs": [
    {
     "data": {
      "image/png": "[encoded data removed]",
      "text/plain": [
       "<Figure size 432x288 with 1 Axes>"
      ]
     },
     "metadata": {
      "needs_background": "light"
     },
     "output_type": "display_data"
    }
   ],
   "source": [
    "# 與範例相同, 不另外解說\n",
    "w = 3\n",
    "b = 0.5\n",
    "x_lin = np.linspace(0, 100, 101)\n",
    "y = (x_lin + np.random.randn(101) * 5) * w + b\n",
    "\n",
    "plt.plot(x_lin, y, 'b.', label = 'data points')\n",
    "plt.title(\"Assume we have data points\")\n",
    "plt.legend(loc = 2)\n",
    "plt.show()"
   ]
  },
  {
   "cell_type": "code",
   "execution_count": 4,
   "metadata": {},
   "outputs": [
    {
     "data": {
      "image/png": "[encoded data removed]",
      "text/plain": [
       "<Figure size 432x288 with 1 Axes>"
      ]
     },
     "metadata": {
      "needs_background": "light"
     },
     "output_type": "display_data"
    }
   ],
   "source": [
    "# 與範例相同, 不另外解說\n",
    "y_hat = x_lin * w + b\n",
    "plt.plot(x_lin, y, 'b.', label = 'data')\n",
    "plt.plot(x_lin, y_hat, 'r-', label = 'prediction')\n",
    "plt.title(\"Assume we have data points (And the prediction)\")\n",
    "plt.legend(loc = 2)\n",
    "plt.show()"
   ]
  },
  {
   "cell_type": "code",
   "execution_count": 5,
   "metadata": {},
   "outputs": [
    {
     "name": "stdout",
     "output_type": "stream",
     "text": [
      "The Mean squared error is 255.846\n",
      "The Mean absolute error is 13.249\n"
     ]
    }
   ],
   "source": [
    "# 執行 Function, 確認有沒有正常執行\n",
    "MSE = mean_squared_error(y, y_hat)\n",
    "MAE = mean_absolute_error(y, y_hat)\n",
    "print(\"The Mean squared error is %.3f\" % (MSE))\n",
    "print(\"The Mean absolute error is %.3f\" % (MAE))"
   ]
  },
  {
   "cell_type": "markdown",
   "metadata": {},
   "source": [
    "# [作業2]\n",
    "\n",
    "請上 Kaggle, 在 Competitions 或 Dataset 中找一組競賽或資料並寫下：\n",
    "\n",
    "## Deepfake Detection Challenge\n",
    "簡稱[DFDC](https://www.kaggle.com/c/deepfake-detection-challenge/overview)\n",
    "\n",
    "1. 你選的這組資料為何重要\n",
    "\n",
    "這個competition是由AWS, Facebook, Microsoft, the Partnership on AI’s Media Integrity Steering Committee聯合舉辦，\n",
    "\n",
    "旨在邀集各方好手打造能辨識AI技術造假影片的科技。\n",
    "\n",
    "由於在2017年Reddit網站用戶「deepfakes」提出了這個opensource的技術，\n",
    "\n",
    "從此Facebook、Reddit還有各大社群網站開始有用deepfake製作的影片在流傳，\n",
    "\n",
    "近來的一項研究表明，目前網上有14678個DeepFake視頻，其中96%是色情視頻。\n",
    "\n",
    "技術的革新也讓詐騙業不斷改頭換面。deepfake可以合成人像、合成語音乃至合成筆跡，讓欺詐活動變得更加隱秘而難以偵查和防衛。\n",
    "\n",
    "因此雖然各大網站幾乎都禁止deepfake製作的影像、聲音，但是人的肉眼仍是難以分辨，\n",
    "\n",
    "這是一款based on GAN(generative adversarial network)的技術，\n",
    "\n",
    "比賽任務大概就是要train一個類似GAN中discriminator的角色，\n",
    "\n",
    "讓我們可以藉由ML來判斷一段影片或聲音到底是或不是deepfake的產物。\n",
    "\n",
    "- - -\n",
    "\n",
    "2. 資料從何而來 (tips: 譬如提供者是誰、以什麼方式蒐集)\n",
    "\n",
    "其中manipulated是由Facebook和合作廠商發佈數萬個包含真實未處理以及利用AI產出的Deepfake影片、音訊及其他檔。\n",
    "\n",
    "而realistic的部分是由廠商付錢給同意參加這個competition的個人創作者買來的，\n",
    "\n",
    "- - -\n",
    "\n",
    "3. 蒐集而來的資料型態為何\n",
    "\n",
    "Raw data為MP4影片檔，屬於Unstructured Data，\n",
    "\n",
    "label則直接寫在file name上面。\n",
    "\n",
    "| Columns | 解釋 |\n",
    "| :---: | :---: |\n",
    "| filename | the filename of the video|\n",
    "| label|whether the video is REAL or FAKE|\n",
    "| original | in the case that a train set video is FAKE, the original video is listed here|\n",
    "| split | this is always equal to \"train\".|\n",
    "\n",
    "- - -\n",
    "\n",
    "4. 這組資料想解決的問題如何評估\n",
    "\n",
    "Evaluation的方式為Log loss(希望最大化maximum likelihood)，\n",
    "\n",
    "$LogLoss=-\\frac{1}{n}\\sum_{i=1}^{n}[y_i\\log{(\\hat{y_i})}+(1-y_i)\\log{(1-\\hat{y_i})}]$\n",
    "\n",
    "\n",
    "希望能minimize我們訓練的model和實際情況兩者間distribution的cross-entropy，\n",
    "\n",
    "而非採用square error來評估，避免掉離initialize參數時離真實值太遠會遇到plateau的情況，\n",
    "\n",
    "由於是要做binary classification，因此用這個式子作為evaluation相當合理。\n",
    "\n",
    "[ref: Understanding the difficulty of training deep feedforward neural networks](http://jmlr.org/proceedings/papers/v9/glorot10a/glorot10a.pdf)"
   ]
  },
  {
   "cell_type": "markdown",
   "metadata": {},
   "source": [
    "# [作業3]\n",
    "\n",
    "想像你經營一個自由載客車隊，你希望能透過數據分析以提升業績，請你思考並描述你如何規劃整體的分析/解決方案：\n",
    "\n",
    "1. 核心問題為何 (tips：如何定義 「提升業績 & 你的假設」)\n",
    "\n",
    "提升業績可以考慮以降低空車率回主，\n",
    "\n",
    "假設空車率與地點、時間、車子型號等等有關，\n",
    "\n",
    "可以從dataset分析一下車隊中每一台車每天空車的時間，\n",
    "\n",
    "並設法在每個不同維度的feature上嘗試調整，藉以降低空車時間來達到提升業績的目的。\n",
    "\n",
    "- - -\n",
    "\n",
    "2. 資料從何而來 (tips：哪些資料可能會對你想問的問題產生影響 & 資料如何蒐集)\n",
    "\n",
    "紀錄車上的GPS軌跡、載客時間的紀錄、車隊中所有註冊在籍的車型目錄。\n",
    "\n",
    "- - -\n",
    "\n",
    "3. 蒐集而來的資料型態為何\n",
    "\n",
    "時間相關的資料型態應為quantitative data (aka numerical data)，\n",
    "\n",
    "GPS軌跡應先轉換成qualitative data (aka categorical data)(地名)比較方便，\n",
    "\n",
    "總之大概會有這兩種類型的feature，\n",
    "\n",
    "故qualitative data在做分析時先轉成one-hot encode比較方便。\n",
    "\n",
    "- - -\n",
    "\n",
    "4. 你要回答的問題，其如何評估 (tips：你的假設如何驗證)\n",
    "\n",
    "既然是分析時間，那大概會是regression problem，\n",
    "\n",
    "用MSE來分析residual大小應該就可以做的不錯了，微分也容易。"
   ]
  }
 ],
 "metadata": {
  "anaconda-cloud": {},
  "kernelspec": {
   "display_name": "Python 3",
   "language": "python",
   "name": "python3"
  },
  "language_info": {
   "codemirror_mode": {
    "name": "ipython",
    "version": 3
   },
   "file_extension": ".py",
   "mimetype": "text/x-python",
   "name": "python",
   "nbconvert_exporter": "python",
   "pygments_lexer": "ipython3",
   "version": "3.7.3"
  }
 },
 "nbformat": 4,
 "nbformat_minor": 1
}
