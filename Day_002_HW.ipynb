{
 "cells": [
  {
   "cell_type": "markdown",
   "metadata": {},
   "source": [
    "## [作業目標]\n",
    "了解機器學習適合應用的領域與範疇。"
   ]
  },
  {
   "cell_type": "markdown",
   "metadata": {},
   "source": [
    "## [作業重點]\n",
    "透過瞭解機器學習的運作方式，找出非常適用機器學習應用的領域及其原因"
   ]
  },
  {
   "cell_type": "markdown",
   "metadata": {},
   "source": [
    "## 作業\n",
    "請找出一個你認為機器學習可以發光發熱的領域並闡述原因? "
   ]
  },
  {
   "cell_type": "markdown",
   "metadata": {},
   "source": [
    "- - -\n",
    "\n",
    "我認為在數值計算或計算科學等領域，machine learning可以有非常好的發揮。\n",
    "\n",
    "在machine learning中，尤其是deep learning中NN可以逼近任意函數的性質([Stone–Weierstrass theorem](https://zh.wikipedia.org/wiki/%E9%AD%8F%E5%B0%94%E6%96%BD%E7%89%B9%E6%8B%89%E6%96%AF%E9%80%BC%E8%BF%91%E5%AE%9A%E7%90%86))，\n",
    "\n",
    "可以提供我們在求解高維度PDE的過程省去不少麻煩，\n",
    "\n",
    "我們在一般課本上求解傳統的PDE維數通常是只有二維三維的toy example，\n",
    "\n",
    "但是在現實世界的領域中，比如說財金領域中financial pricing model，\n",
    "\n",
    "通過數學建模構建出來的PDE的維數及其之高，維數升高帶來的[curse of dimensionality](https://zh.wikipedia.org/wiki/%E7%BB%B4%E6%95%B0%E7%81%BE%E9%9A%BE)問題亟待解決。\n",
    "\n",
    "像是Black-Scholes來作選擇權定價時，其中的PDE solver我們便可以用一個NN來逼近，\n",
    "\n",
    "Ref: [Pricing options and computing implied volatilities using neural networks](https://arxiv.org/abs/1901.08943)\n",
    "\n",
    "原本在計算時原本我們的effort應該要隨著dimension呈現exponential地成長，\n",
    "\n",
    "但deep learning提供了我們一個全新的思路，\n",
    "\n",
    "基本想法就是隨機微分方程(Stochastic Differential Equation, SDE)中將gradient operator用NN來fit，\n",
    "\n",
    "如果在我們想要解出的區間中，只要讓model看過這類型的解，\n",
    "\n",
    "NN便有了取代PDE solver的能力，並將誤差控制在非常小的狀況，使$R^2=0.99$\n",
    "\n",
    "縱使我們不知道這些高維度PDE該怎麼解，也可以做到相當精準的計算了。"
   ]
  }
 ],
 "metadata": {
  "kernelspec": {
   "display_name": "Python 3",
   "language": "python",
   "name": "python3"
  },
  "language_info": {
   "codemirror_mode": {
    "name": "ipython",
    "version": 3
   },
   "file_extension": ".py",
   "mimetype": "text/x-python",
   "name": "python",
   "nbconvert_exporter": "python",
   "pygments_lexer": "ipython3",
   "version": "3.7.3"
  }
 },
 "nbformat": 4,
 "nbformat_minor": 2
}